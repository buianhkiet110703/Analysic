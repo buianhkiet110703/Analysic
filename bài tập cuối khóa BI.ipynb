{
 "cells": [
  {
   "cell_type": "code",
   "execution_count": 2,
   "metadata": {},
   "outputs": [],
   "source": [
    "import pandas as pd\n",
    "import numpy as np\n",
    "import matplotlib.pyplot as plt\n",
    "import seaborn as sns\n",
    "customer= pd.read_csv(r'C:\\Users\\Dell\\Downloads\\customers_dataset.csv')\n",
    "order_items= pd.read_csv(r'C:\\Users\\Dell\\Downloads\\order_items_dataset.csv')\n",
    "order_payments= pd.read_csv(r'C:\\Users\\Dell\\Downloads\\order_payments_dataset.csv')\n",
    "order_reviewer= pd.read_csv(r'C:\\Users\\Dell\\Downloads\\order_reviews_dataset.csv')\n",
    "order= pd.read_csv(r'C:\\Users\\Dell\\Downloads\\orders_dataset.csv')\n",
    "product_category= (r'C:\\Users\\Dell\\Downloads\\product_category_name_translation.csv')\n",
    "products= pd.read_csv(r'C:\\Users\\Dell\\Downloads\\products_dataset.csv')"
   ]
  },
  {
   "cell_type": "markdown",
   "metadata": {},
   "source": [
    "KẾT HỢP CÁC BẢNG LẠI VỚI NHAU"
   ]
  },
  {
   "cell_type": "code",
   "execution_count": 3,
   "metadata": {},
   "outputs": [],
   "source": [
    "df= order.merge(order_items, on=['order_id'], how='left')\n",
    "df= df.merge(order_payments, on=['order_id'], how= 'left')\n",
    "df= df.merge(products, on=['product_id'], how= 'left')\n",
    "df= df.merge(order_reviewer, on=['order_id'], how='left')\n",
    "df= df.merge(customer, on=['customer_id'], how='left')"
   ]
  },
  {
   "cell_type": "code",
   "execution_count": 4,
   "metadata": {},
   "outputs": [],
   "source": [
    "df['month']= pd.to_datetime(df['order_delivered_customer_date']).dt.month\n",
    "df['year']= pd.to_datetime(df['order_delivered_customer_date']).dt.year"
   ]
  },
  {
   "cell_type": "code",
   "execution_count": 46,
   "metadata": {},
   "outputs": [],
   "source": [
    "#quy đổi dữ liệu\n",
    "df[\"month\"]=df[\"month\"].replace((1,2,3,4,5,6,7,8,9,10,11,12),('January','February' ,'March' ,'April' ,'May' ,'June' ,'July' ,'August' ,'September','October' ,'November' ,'December' ))"
   ]
  },
  {
   "cell_type": "markdown",
   "metadata": {},
   "source": [
    "TÌNH HÌNH KINH DOANH CỦA CÔNG TY THEO THÁNG VÀ NĂM"
   ]
  },
  {
   "cell_type": "code",
   "execution_count": 4,
   "metadata": {},
   "outputs": [
    {
     "data": {
      "text/html": [
       "<div>\n",
       "<style scoped>\n",
       "    .dataframe tbody tr th:only-of-type {\n",
       "        vertical-align: middle;\n",
       "    }\n",
       "\n",
       "    .dataframe tbody tr th {\n",
       "        vertical-align: top;\n",
       "    }\n",
       "\n",
       "    .dataframe thead th {\n",
       "        text-align: right;\n",
       "    }\n",
       "</style>\n",
       "<table border=\"1\" class=\"dataframe\">\n",
       "  <thead>\n",
       "    <tr style=\"text-align: right;\">\n",
       "      <th>year</th>\n",
       "      <th>month</th>\n",
       "      <th>2016.0</th>\n",
       "      <th>2017.0</th>\n",
       "      <th>2018.0</th>\n",
       "    </tr>\n",
       "  </thead>\n",
       "  <tbody>\n",
       "    <tr>\n",
       "      <th>0</th>\n",
       "      <td>1.0</td>\n",
       "      <td>0.00</td>\n",
       "      <td>48998.24</td>\n",
       "      <td>1240964.71</td>\n",
       "    </tr>\n",
       "    <tr>\n",
       "      <th>1</th>\n",
       "      <td>2.0</td>\n",
       "      <td>0.00</td>\n",
       "      <td>292718.66</td>\n",
       "      <td>1096597.61</td>\n",
       "    </tr>\n",
       "    <tr>\n",
       "      <th>2</th>\n",
       "      <td>3.0</td>\n",
       "      <td>0.00</td>\n",
       "      <td>479845.49</td>\n",
       "      <td>1444359.04</td>\n",
       "    </tr>\n",
       "    <tr>\n",
       "      <th>3</th>\n",
       "      <td>4.0</td>\n",
       "      <td>0.00</td>\n",
       "      <td>369535.26</td>\n",
       "      <td>1644196.13</td>\n",
       "    </tr>\n",
       "    <tr>\n",
       "      <th>4</th>\n",
       "      <td>5.0</td>\n",
       "      <td>0.00</td>\n",
       "      <td>729657.52</td>\n",
       "      <td>1531657.11</td>\n",
       "    </tr>\n",
       "    <tr>\n",
       "      <th>5</th>\n",
       "      <td>6.0</td>\n",
       "      <td>0.00</td>\n",
       "      <td>621972.36</td>\n",
       "      <td>1518790.24</td>\n",
       "    </tr>\n",
       "    <tr>\n",
       "      <th>6</th>\n",
       "      <td>7.0</td>\n",
       "      <td>0.00</td>\n",
       "      <td>654493.29</td>\n",
       "      <td>1197100.67</td>\n",
       "    </tr>\n",
       "    <tr>\n",
       "      <th>7</th>\n",
       "      <td>8.0</td>\n",
       "      <td>0.00</td>\n",
       "      <td>798605.92</td>\n",
       "      <td>1675763.13</td>\n",
       "    </tr>\n",
       "    <tr>\n",
       "      <th>8</th>\n",
       "      <td>9.0</td>\n",
       "      <td>0.00</td>\n",
       "      <td>886990.40</td>\n",
       "      <td>13186.10</td>\n",
       "    </tr>\n",
       "    <tr>\n",
       "      <th>9</th>\n",
       "      <td>10.0</td>\n",
       "      <td>46599.54</td>\n",
       "      <td>1121077.48</td>\n",
       "      <td>347.95</td>\n",
       "    </tr>\n",
       "    <tr>\n",
       "      <th>10</th>\n",
       "      <td>11.0</td>\n",
       "      <td>15909.84</td>\n",
       "      <td>980253.41</td>\n",
       "      <td>0.00</td>\n",
       "    </tr>\n",
       "    <tr>\n",
       "      <th>11</th>\n",
       "      <td>12.0</td>\n",
       "      <td>960.85</td>\n",
       "      <td>1472319.61</td>\n",
       "      <td>0.00</td>\n",
       "    </tr>\n",
       "  </tbody>\n",
       "</table>\n",
       "</div>"
      ],
      "text/plain": [
       "year  month    2016.0      2017.0      2018.0\n",
       "0       1.0      0.00    48998.24  1240964.71\n",
       "1       2.0      0.00   292718.66  1096597.61\n",
       "2       3.0      0.00   479845.49  1444359.04\n",
       "3       4.0      0.00   369535.26  1644196.13\n",
       "4       5.0      0.00   729657.52  1531657.11\n",
       "5       6.0      0.00   621972.36  1518790.24\n",
       "6       7.0      0.00   654493.29  1197100.67\n",
       "7       8.0      0.00   798605.92  1675763.13\n",
       "8       9.0      0.00   886990.40    13186.10\n",
       "9      10.0  46599.54  1121077.48      347.95\n",
       "10     11.0  15909.84   980253.41        0.00\n",
       "11     12.0    960.85  1472319.61        0.00"
      ]
     },
     "execution_count": 4,
     "metadata": {},
     "output_type": "execute_result"
    }
   ],
   "source": [
    "turnover= pd.pivot_table(df,index='month', columns='year', values='payment_value', aggfunc=np.sum, fill_value=0).reset_index(drop= False)\n",
    "turnover"
   ]
  },
  {
   "cell_type": "code",
   "execution_count": 7,
   "metadata": {},
   "outputs": [],
   "source": [
    "#doanh thu theo năm\n",
    "turnover_year= df.groupby('year')['payment_value'].sum().reset_index()\n",
    "xs,ys= turnover_year['year'], turnover_year['payment_value']"
   ]
  },
  {
   "cell_type": "code",
   "execution_count": 8,
   "metadata": {},
   "outputs": [
    {
     "data": {
      "image/png": "[encoded data removed]",
      "text/plain": [
       "<Figure size 1080x720 with 1 Axes>"
      ]
     },
     "metadata": {
      "needs_background": "light"
     },
     "output_type": "display_data"
    }
   ],
   "source": [
    "plt.figure(figsize=(15,10))\n",
    "plt.bar(xs,ys, color= sns.color_palette('Paired'));\n",
    "plt.xlabel('year')\n",
    "plt.ylabel('payment_value')\n",
    "for x,y in zip(xs,ys):\n",
    "    \n",
    "        label = \"{:.2f}\".format(y)\n",
    "\n",
    "        plt.annotate(label, # this is the text\n",
    "                    (x,y), # these are the coordinates to position the label\n",
    "                    textcoords=\"offset points\", # how to position the text\n",
    "                    xytext=(0,10), # distance from text to points (x,y)\n",
    "                    ha='center') # horizontal alignment can be left, right or center\n",
    "\n",
    "plt.show()\n",
    "\n",
    "    "
   ]
  },
  {
   "cell_type": "code",
   "execution_count": 9,
   "metadata": {},
   "outputs": [],
   "source": [
    "#doanh thu theo từng tháng\n",
    "turnover_month= df.groupby('month')['payment_value'].sum().reset_index()\n",
    "x,y= turnover_month['month'], turnover_month['payment_value']\n"
   ]
  },
  {
   "cell_type": "code",
   "execution_count": 15,
   "metadata": {},
   "outputs": [
    {
     "data": {
      "image/png": "[encoded data removed]",
      "text/plain": [
       "<Figure size 1080x720 with 1 Axes>"
      ]
     },
     "metadata": {
      "needs_background": "light"
     },
     "output_type": "display_data"
    }
   ],
   "source": [
    "plt.figure(figsize=(15,10))\n",
    "plt.plot(x,y)\n",
    "plt.xlabel('month')\n",
    "plt.ylabel('payment_value')\n",
    "for a,b in zip(x,y):\n",
    "    \n",
    "        label = \"{:.2f}\".format(b)\n",
    "\n",
    "        plt.annotate(label, # this is the text\n",
    "                    (a,b), # these are the coordinates to position the label\n",
    "                    textcoords=\"offset points\", # how to position the text\n",
    "                    xytext=(0,10), # distance from text to points (x,y)\n",
    "                    ha='center') # horizontal alignment can be left, right or center\n",
    "\n",
    "plt.show()"
   ]
  },
  {
   "cell_type": "markdown",
   "metadata": {},
   "source": [
    "Top 10 nhóm sản phẩm bán chạy nhất đem lại doanh thu cao nhất cho công ty"
   ]
  },
  {
   "cell_type": "code",
   "execution_count": 6,
   "metadata": {},
   "outputs": [
    {
     "data": {
      "text/html": [
       "<div>\n",
       "<style scoped>\n",
       "    .dataframe tbody tr th:only-of-type {\n",
       "        vertical-align: middle;\n",
       "    }\n",
       "\n",
       "    .dataframe tbody tr th {\n",
       "        vertical-align: top;\n",
       "    }\n",
       "\n",
       "    .dataframe thead th {\n",
       "        text-align: right;\n",
       "    }\n",
       "</style>\n",
       "<table border=\"1\" class=\"dataframe\">\n",
       "  <thead>\n",
       "    <tr style=\"text-align: right;\">\n",
       "      <th></th>\n",
       "      <th>product_category_name</th>\n",
       "      <th>payment_value</th>\n",
       "    </tr>\n",
       "  </thead>\n",
       "  <tbody>\n",
       "    <tr>\n",
       "      <th>0</th>\n",
       "      <td>cama_mesa_banho</td>\n",
       "      <td>1744205.53</td>\n",
       "    </tr>\n",
       "    <tr>\n",
       "      <th>1</th>\n",
       "      <td>beleza_saude</td>\n",
       "      <td>1663076.30</td>\n",
       "    </tr>\n",
       "    <tr>\n",
       "      <th>2</th>\n",
       "      <td>informatica_acessorios</td>\n",
       "      <td>1599574.66</td>\n",
       "    </tr>\n",
       "    <tr>\n",
       "      <th>3</th>\n",
       "      <td>moveis_decoracao</td>\n",
       "      <td>1444383.69</td>\n",
       "    </tr>\n",
       "    <tr>\n",
       "      <th>4</th>\n",
       "      <td>relogios_presentes</td>\n",
       "      <td>1430553.48</td>\n",
       "    </tr>\n",
       "    <tr>\n",
       "      <th>5</th>\n",
       "      <td>esporte_lazer</td>\n",
       "      <td>1400270.11</td>\n",
       "    </tr>\n",
       "    <tr>\n",
       "      <th>6</th>\n",
       "      <td>utilidades_domesticas</td>\n",
       "      <td>1097900.09</td>\n",
       "    </tr>\n",
       "    <tr>\n",
       "      <th>7</th>\n",
       "      <td>automotivo</td>\n",
       "      <td>855095.68</td>\n",
       "    </tr>\n",
       "    <tr>\n",
       "      <th>8</th>\n",
       "      <td>ferramentas_jardim</td>\n",
       "      <td>840721.59</td>\n",
       "    </tr>\n",
       "    <tr>\n",
       "      <th>9</th>\n",
       "      <td>cool_stuff</td>\n",
       "      <td>781933.97</td>\n",
       "    </tr>\n",
       "  </tbody>\n",
       "</table>\n",
       "</div>"
      ],
      "text/plain": [
       "    product_category_name  payment_value\n",
       "0         cama_mesa_banho     1744205.53\n",
       "1            beleza_saude     1663076.30\n",
       "2  informatica_acessorios     1599574.66\n",
       "3        moveis_decoracao     1444383.69\n",
       "4      relogios_presentes     1430553.48\n",
       "5           esporte_lazer     1400270.11\n",
       "6   utilidades_domesticas     1097900.09\n",
       "7              automotivo      855095.68\n",
       "8      ferramentas_jardim      840721.59\n",
       "9              cool_stuff      781933.97"
      ]
     },
     "execution_count": 6,
     "metadata": {},
     "output_type": "execute_result"
    }
   ],
   "source": [
    "df.groupby('product_category_name')['payment_value'].sum().nlargest(10).reset_index()"
   ]
  },
  {
   "cell_type": "markdown",
   "metadata": {},
   "source": [
    "SỐ ĐƠN HÀNG GIAO THÀNH CÔNG VÀ BỊ HỦY "
   ]
  },
  {
   "cell_type": "code",
   "execution_count": null,
   "metadata": {},
   "outputs": [],
   "source": [
    "df['order_status'].unique()"
   ]
  },
  {
   "cell_type": "code",
   "execution_count": 10,
   "metadata": {},
   "outputs": [],
   "source": [
    "delivered_df= df.loc[df['order_status']=='delivered']\n",
    "canceled_df= df.loc[df['order_status']=='canceled']"
   ]
  },
  {
   "cell_type": "code",
   "execution_count": 19,
   "metadata": {},
   "outputs": [
    {
     "data": {
      "image/png": "[encoded data removed]",
      "text/plain": [
       "<Figure size 864x432 with 1 Axes>"
      ]
     },
     "metadata": {
      "needs_background": "light"
     },
     "output_type": "display_data"
    }
   ],
   "source": [
    "plt.figure(figsize=(12,6))\n",
    "sns.countplot(data=canceled_df,x='year');"
   ]
  },
  {
   "cell_type": "code",
   "execution_count": 20,
   "metadata": {},
   "outputs": [
    {
     "data": {
      "image/png": "[encoded data removed]",
      "text/plain": [
       "<Figure size 864x432 with 1 Axes>"
      ]
     },
     "metadata": {
      "needs_background": "light"
     },
     "output_type": "display_data"
    }
   ],
   "source": [
    "plt.figure(figsize=(12,6))\n",
    "sns.countplot(data= delivered_df,x='year');"
   ]
  },
  {
   "cell_type": "markdown",
   "metadata": {},
   "source": [
    "Hình thức thanh toán "
   ]
  },
  {
   "cell_type": "code",
   "execution_count": 21,
   "metadata": {},
   "outputs": [
    {
     "data": {
      "image/png": "[encoded data removed]",
      "text/plain": [
       "<Figure size 864x432 with 1 Axes>"
      ]
     },
     "metadata": {
      "needs_background": "light"
     },
     "output_type": "display_data"
    }
   ],
   "source": [
    "plt.figure(figsize=(12,6))\n",
    "sns.countplot(data=df, x='payment_type');"
   ]
  },
  {
   "cell_type": "markdown",
   "metadata": {},
   "source": [
    "Số sao mà khách hàng đánh giá"
   ]
  },
  {
   "cell_type": "code",
   "execution_count": 23,
   "metadata": {},
   "outputs": [],
   "source": [
    "star= df.groupby('review_score')['customer_id'].count().reset_index(name='count')\n",
    "ax= star['review_score']\n",
    "bx= star['count']"
   ]
  },
  {
   "cell_type": "code",
   "execution_count": 26,
   "metadata": {},
   "outputs": [
    {
     "data": {
      "image/png": "[encoded data removed]",
      "text/plain": [
       "<Figure size 1080x432 with 1 Axes>"
      ]
     },
     "metadata": {},
     "output_type": "display_data"
    }
   ],
   "source": [
    "plt.figure(figsize=(15,6))\n",
    "plt.pie(bx, labels=ax ,autopct='%1.1f%%');\n",
    "plt.legend();"
   ]
  },
  {
   "cell_type": "code",
   "execution_count": null,
   "metadata": {},
   "outputs": [],
   "source": [
    "#danh sách những sản phẩm đánh giá 1 và 2 sao\n",
    "star12= df.loc[(df['review_score']== 1)|(df['review_score']==2)]\n",
    "pd.crosstab(star12.product_category_name, star12.review_score)"
   ]
  },
  {
   "cell_type": "code",
   "execution_count": 13,
   "metadata": {},
   "outputs": [
    {
     "data": {
      "text/html": [
       "<div>\n",
       "<style scoped>\n",
       "    .dataframe tbody tr th:only-of-type {\n",
       "        vertical-align: middle;\n",
       "    }\n",
       "\n",
       "    .dataframe tbody tr th {\n",
       "        vertical-align: top;\n",
       "    }\n",
       "\n",
       "    .dataframe thead th {\n",
       "        text-align: right;\n",
       "    }\n",
       "</style>\n",
       "<table border=\"1\" class=\"dataframe\">\n",
       "  <thead>\n",
       "    <tr style=\"text-align: right;\">\n",
       "      <th></th>\n",
       "      <th>seller_id</th>\n",
       "      <th>review_score</th>\n",
       "    </tr>\n",
       "  </thead>\n",
       "  <tbody>\n",
       "    <tr>\n",
       "      <th>0</th>\n",
       "      <td>4a3ca9315b744ce9f8e9374361493884</td>\n",
       "      <td>443</td>\n",
       "    </tr>\n",
       "    <tr>\n",
       "      <th>1</th>\n",
       "      <td>7c67e1448b00f6e969d365cea6b010ab</td>\n",
       "      <td>417</td>\n",
       "    </tr>\n",
       "    <tr>\n",
       "      <th>2</th>\n",
       "      <td>6560211a19b47992c3666cc44a7e94c0</td>\n",
       "      <td>390</td>\n",
       "    </tr>\n",
       "    <tr>\n",
       "      <th>3</th>\n",
       "      <td>1f50f920176fa81dab994f9023523100</td>\n",
       "      <td>368</td>\n",
       "    </tr>\n",
       "    <tr>\n",
       "      <th>4</th>\n",
       "      <td>1025f0e2d44d7041d6cf58b6550e0bfa</td>\n",
       "      <td>307</td>\n",
       "    </tr>\n",
       "    <tr>\n",
       "      <th>5</th>\n",
       "      <td>cc419e0650a3c5ba77189a1882b7556a</td>\n",
       "      <td>296</td>\n",
       "    </tr>\n",
       "    <tr>\n",
       "      <th>6</th>\n",
       "      <td>da8622b14eb17ae2831f4ac5b9dab84a</td>\n",
       "      <td>253</td>\n",
       "    </tr>\n",
       "    <tr>\n",
       "      <th>7</th>\n",
       "      <td>955fee9216a65b617aa5c0531780ce60</td>\n",
       "      <td>225</td>\n",
       "    </tr>\n",
       "    <tr>\n",
       "      <th>8</th>\n",
       "      <td>ea8482cd71df3c1969d7b9473ff13abc</td>\n",
       "      <td>209</td>\n",
       "    </tr>\n",
       "    <tr>\n",
       "      <th>9</th>\n",
       "      <td>cca3071e3e9bb7d12640c9fbe2301306</td>\n",
       "      <td>206</td>\n",
       "    </tr>\n",
       "  </tbody>\n",
       "</table>\n",
       "</div>"
      ],
      "text/plain": [
       "                          seller_id  review_score\n",
       "0  4a3ca9315b744ce9f8e9374361493884           443\n",
       "1  7c67e1448b00f6e969d365cea6b010ab           417\n",
       "2  6560211a19b47992c3666cc44a7e94c0           390\n",
       "3  1f50f920176fa81dab994f9023523100           368\n",
       "4  1025f0e2d44d7041d6cf58b6550e0bfa           307\n",
       "5  cc419e0650a3c5ba77189a1882b7556a           296\n",
       "6  da8622b14eb17ae2831f4ac5b9dab84a           253\n",
       "7  955fee9216a65b617aa5c0531780ce60           225\n",
       "8  ea8482cd71df3c1969d7b9473ff13abc           209\n",
       "9  cca3071e3e9bb7d12640c9fbe2301306           206"
      ]
     },
     "execution_count": 13,
     "metadata": {},
     "output_type": "execute_result"
    }
   ],
   "source": [
    "# danh sách id người bán có lượt đánh giá 1 và 2 điểm nhiều nhất.\n",
    "star12.groupby('seller_id')['review_score'].count().sort_values(ascending=False).nlargest(10).reset_index()"
   ]
  },
  {
   "cell_type": "markdown",
   "metadata": {},
   "source": [
    "Top những khách hàng đem lại doanh thu cao nhất cho công ty"
   ]
  },
  {
   "cell_type": "code",
   "execution_count": 7,
   "metadata": {},
   "outputs": [
    {
     "data": {
      "text/html": [
       "<div>\n",
       "<style scoped>\n",
       "    .dataframe tbody tr th:only-of-type {\n",
       "        vertical-align: middle;\n",
       "    }\n",
       "\n",
       "    .dataframe tbody tr th {\n",
       "        vertical-align: top;\n",
       "    }\n",
       "\n",
       "    .dataframe thead th {\n",
       "        text-align: right;\n",
       "    }\n",
       "</style>\n",
       "<table border=\"1\" class=\"dataframe\">\n",
       "  <thead>\n",
       "    <tr style=\"text-align: right;\">\n",
       "      <th></th>\n",
       "      <th>payment_value</th>\n",
       "    </tr>\n",
       "    <tr>\n",
       "      <th>customer_id</th>\n",
       "      <th></th>\n",
       "    </tr>\n",
       "  </thead>\n",
       "  <tbody>\n",
       "    <tr>\n",
       "      <th>1617b1357756262bfa56ab541c47bc16</th>\n",
       "      <td>109312.64</td>\n",
       "    </tr>\n",
       "    <tr>\n",
       "      <th>bd5d39761aa56689a265d95d8d32b8be</th>\n",
       "      <td>45256.00</td>\n",
       "    </tr>\n",
       "    <tr>\n",
       "      <th>be1b70680b9f9694d8c70f41fa3dc92b</th>\n",
       "      <td>44048.00</td>\n",
       "    </tr>\n",
       "    <tr>\n",
       "      <th>05455dfa7cd02f13d132aa7a6a9729c6</th>\n",
       "      <td>36489.24</td>\n",
       "    </tr>\n",
       "    <tr>\n",
       "      <th>1ff773612ab8934db89fd5afa8afe506</th>\n",
       "      <td>30186.00</td>\n",
       "    </tr>\n",
       "    <tr>\n",
       "      <th>ec5b2ba62e574342386871631fafd3fc</th>\n",
       "      <td>29099.52</td>\n",
       "    </tr>\n",
       "    <tr>\n",
       "      <th>e7d6802668de6e74d0d6c56565bf2a24</th>\n",
       "      <td>22346.60</td>\n",
       "    </tr>\n",
       "    <tr>\n",
       "      <th>8c20d9bfbc96c5d39025d77a3ba83d7f</th>\n",
       "      <td>21874.05</td>\n",
       "    </tr>\n",
       "    <tr>\n",
       "      <th>f7622098214b4634b7fe7eee269b5426</th>\n",
       "      <td>19457.04</td>\n",
       "    </tr>\n",
       "    <tr>\n",
       "      <th>71901689c5f3e5adc27b1dd16b33f0b8</th>\n",
       "      <td>19174.38</td>\n",
       "    </tr>\n",
       "  </tbody>\n",
       "</table>\n",
       "</div>"
      ],
      "text/plain": [
       "                                  payment_value\n",
       "customer_id                                    \n",
       "1617b1357756262bfa56ab541c47bc16      109312.64\n",
       "bd5d39761aa56689a265d95d8d32b8be       45256.00\n",
       "be1b70680b9f9694d8c70f41fa3dc92b       44048.00\n",
       "05455dfa7cd02f13d132aa7a6a9729c6       36489.24\n",
       "1ff773612ab8934db89fd5afa8afe506       30186.00\n",
       "ec5b2ba62e574342386871631fafd3fc       29099.52\n",
       "e7d6802668de6e74d0d6c56565bf2a24       22346.60\n",
       "8c20d9bfbc96c5d39025d77a3ba83d7f       21874.05\n",
       "f7622098214b4634b7fe7eee269b5426       19457.04\n",
       "71901689c5f3e5adc27b1dd16b33f0b8       19174.38"
      ]
     },
     "execution_count": 7,
     "metadata": {},
     "output_type": "execute_result"
    }
   ],
   "source": [
    "df.groupby('customer_id')['payment_value'].sum().sort_values(ascending= False).head(10).to_frame()"
   ]
  },
  {
   "cell_type": "markdown",
   "metadata": {},
   "source": [
    "Top những thàng phố đem lại doanh thu cao nhất cho công ty"
   ]
  },
  {
   "cell_type": "code",
   "execution_count": 18,
   "metadata": {},
   "outputs": [
    {
     "data": {
      "text/html": [
       "<div>\n",
       "<style scoped>\n",
       "    .dataframe tbody tr th:only-of-type {\n",
       "        vertical-align: middle;\n",
       "    }\n",
       "\n",
       "    .dataframe tbody tr th {\n",
       "        vertical-align: top;\n",
       "    }\n",
       "\n",
       "    .dataframe thead th {\n",
       "        text-align: right;\n",
       "    }\n",
       "</style>\n",
       "<table border=\"1\" class=\"dataframe\">\n",
       "  <thead>\n",
       "    <tr style=\"text-align: right;\">\n",
       "      <th></th>\n",
       "      <th>payment_value</th>\n",
       "    </tr>\n",
       "    <tr>\n",
       "      <th>customer_city</th>\n",
       "      <th></th>\n",
       "    </tr>\n",
       "  </thead>\n",
       "  <tbody>\n",
       "    <tr>\n",
       "      <th>sao paulo</th>\n",
       "      <td>2902209.75</td>\n",
       "    </tr>\n",
       "    <tr>\n",
       "      <th>rio de janeiro</th>\n",
       "      <td>1581736.07</td>\n",
       "    </tr>\n",
       "    <tr>\n",
       "      <th>belo horizonte</th>\n",
       "      <td>509165.81</td>\n",
       "    </tr>\n",
       "    <tr>\n",
       "      <th>brasilia</th>\n",
       "      <td>435971.02</td>\n",
       "    </tr>\n",
       "    <tr>\n",
       "      <th>curitiba</th>\n",
       "      <td>333582.09</td>\n",
       "    </tr>\n",
       "    <tr>\n",
       "      <th>porto alegre</th>\n",
       "      <td>317995.72</td>\n",
       "    </tr>\n",
       "    <tr>\n",
       "      <th>salvador</th>\n",
       "      <td>291499.12</td>\n",
       "    </tr>\n",
       "    <tr>\n",
       "      <th>campinas</th>\n",
       "      <td>272689.17</td>\n",
       "    </tr>\n",
       "    <tr>\n",
       "      <th>goiania</th>\n",
       "      <td>215121.83</td>\n",
       "    </tr>\n",
       "    <tr>\n",
       "      <th>guarulhos</th>\n",
       "      <td>207174.47</td>\n",
       "    </tr>\n",
       "  </tbody>\n",
       "</table>\n",
       "</div>"
      ],
      "text/plain": [
       "                payment_value\n",
       "customer_city                \n",
       "sao paulo          2902209.75\n",
       "rio de janeiro     1581736.07\n",
       "belo horizonte      509165.81\n",
       "brasilia            435971.02\n",
       "curitiba            333582.09\n",
       "porto alegre        317995.72\n",
       "salvador            291499.12\n",
       "campinas            272689.17\n",
       "goiania             215121.83\n",
       "guarulhos           207174.47"
      ]
     },
     "execution_count": 18,
     "metadata": {},
     "output_type": "execute_result"
    }
   ],
   "source": [
    "df.groupby('customer_city')['payment_value'].sum().sort_values(ascending=False).to_frame().head(10)"
   ]
  }
 ],
 "metadata": {
  "kernelspec": {
   "display_name": "Python 3.10.5 64-bit (windows store)",
   "language": "python",
   "name": "python3"
  },
  "language_info": {
   "codemirror_mode": {
    "name": "ipython",
    "version": 3
   },
   "file_extension": ".py",
   "mimetype": "text/x-python",
   "name": "python",
   "nbconvert_exporter": "python",
   "pygments_lexer": "ipython3",
   "version": "3.10.6"
  },
  "orig_nbformat": 4,
  "vscode": {
   "interpreter": {
    "hash": "9e35676d33e03a9093a17dc7760f2b2aa4960ff6d3c0d7dc06348afdc0ca22c8"
   }
  }
 },
 "nbformat": 4,
 "nbformat_minor": 2
}

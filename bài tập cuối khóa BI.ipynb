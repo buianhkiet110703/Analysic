{
 "cells": [
  {
   "cell_type": "code",
   "execution_count": 1,
   "metadata": {},
   "outputs": [],
   "source": [
    "import pandas as pd\n",
    "import numpy as np\n",
    "import matplotlib.pyplot as plt\n",
    "import seaborn as sns\n",
    "customer= pd.read_csv(r'C:\\Users\\Dell\\Downloads\\customers_dataset.csv')\n",
    "order_items= pd.read_csv(r'C:\\Users\\Dell\\Downloads\\order_items_dataset.csv')\n",
    "order_payments= pd.read_csv(r'C:\\Users\\Dell\\Downloads\\order_payments_dataset.csv')\n",
    "order_reviewer= pd.read_csv(r'C:\\Users\\Dell\\Downloads\\order_reviews_dataset.csv')\n",
    "order= pd.read_csv(r'C:\\Users\\Dell\\Downloads\\orders_dataset.csv')\n",
    "product_category= (r'C:\\Users\\Dell\\Downloads\\product_category_name_translation.csv')\n",
    "products= pd.read_csv(r'C:\\Users\\Dell\\Downloads\\products_dataset.csv')"
   ]
  },
  {
   "cell_type": "markdown",
   "metadata": {},
   "source": [
    "KẾT HỢP CÁC BẢNG LẠI VỚI NHAU"
   ]
  },
  {
   "cell_type": "code",
   "execution_count": 2,
   "metadata": {},
   "outputs": [],
   "source": [
    "df= order.merge(order_items, on=['order_id'], how='left')\n",
    "df= df.merge(order_payments, on=['order_id'], how= 'left')\n",
    "df= df.merge(products, on=['product_id'], how= 'left')\n",
    "df= df.merge(order_reviewer, on=['order_id'], how='left')\n",
    "df= df.merge(customer, on=['customer_id'], how='left')"
   ]
  },
  {
   "cell_type": "code",
   "execution_count": null,
   "metadata": {},
   "outputs": [],
   "source": [
    "df.info()"
   ]
  },
  {
   "cell_type": "code",
   "execution_count": 3,
   "metadata": {},
   "outputs": [],
   "source": [
    "df['month']= pd.to_datetime(df['order_delivered_customer_date']).dt.month\n",
    "df['year']= pd.to_datetime(df['order_delivered_customer_date']).dt.year"
   ]
  },
  {
   "cell_type": "code",
   "execution_count": 46,
   "metadata": {},
   "outputs": [],
   "source": [
    "#quy đổi dữ liệu\n",
    "df[\"month\"]=df[\"month\"].replace((1,2,3,4,5,6,7,8,9,10,11,12),('January','February' ,'March' ,'April' ,'May' ,'June' ,'July' ,'August' ,'September','October' ,'November' ,'December' ))"
   ]
  },
  {
   "cell_type": "markdown",
   "metadata": {},
   "source": [
    "TÌNH HÌNH KINH DOANH CỦA CÔNG TY THEO THÁNG VÀ NĂM"
   ]
  },
  {
   "cell_type": "code",
   "execution_count": null,
   "metadata": {},
   "outputs": [],
   "source": [
    "turnover= pd.pivot_table(df,index='month', columns='year', values='payment_value', aggfunc=np.sum, fill_value=0).reset_index(drop= False)\n",
    "turnover"
   ]
  },
  {
   "cell_type": "code",
   "execution_count": 5,
   "metadata": {},
   "outputs": [],
   "source": [
    "#doanh thu theo năm\n",
    "turnover_year= df.groupby('year')['payment_value'].sum().reset_index()\n",
    "xs,ys= turnover_year['year'], turnover_year['payment_value']"
   ]
  },
  {
   "cell_type": "code",
   "execution_count": null,
   "metadata": {},
   "outputs": [],
   "source": [
    "plt.figure(figsize=(15,10))\n",
    "plt.bar(xs,ys, color= sns.color_palette('Paired'));\n",
    "plt.xlabel('year')\n",
    "plt.ylabel('payment_value')\n",
    "for x,y in zip(xs,ys):\n",
    "    \n",
    "        label = \"{:.2f}\".format(y)\n",
    "\n",
    "        plt.annotate(label, # this is the text\n",
    "                    (x,y), # these are the coordinates to position the label\n",
    "                    textcoords=\"offset points\", # how to position the text\n",
    "                    xytext=(0,10), # distance from text to points (x,y)\n",
    "                    ha='center') # horizontal alignment can be left, right or center\n",
    "\n",
    "plt.show()\n",
    "\n",
    "    "
   ]
  },
  {
   "cell_type": "code",
   "execution_count": 7,
   "metadata": {},
   "outputs": [],
   "source": [
    "#doanh thu theo từng tháng\n",
    "turnover_month= df.groupby('month')['payment_value'].sum().reset_index()\n",
    "x,y= turnover_month['month'], turnover_month['payment_value']\n"
   ]
  },
  {
   "cell_type": "code",
   "execution_count": null,
   "metadata": {},
   "outputs": [],
   "source": [
    "plt.figure(figsize=(20,12))\n",
    "plt.plot(x,y)\n",
    "plt.xlabel('month')\n",
    "plt.ylabel('payment_value')\n",
    "for a,b in zip(x,y):\n",
    "    \n",
    "        label = \"{:.2f}\".format(b)\n",
    "\n",
    "        plt.annotate(label, # this is the text\n",
    "                    (a,b), # these are the coordinates to position the label\n",
    "                    textcoords=\"offset points\", # how to position the text\n",
    "                    xytext=(0,10), # distance from text to points (x,y)\n",
    "                    ha='center') # horizontal alignment can be left, right or center\n",
    "\n",
    "plt.show()"
   ]
  },
  {
   "cell_type": "markdown",
   "metadata": {},
   "source": [
    "Top 10 sản phẩm bán chạy nhất đem lại doanh thu cao nhất cho công ty"
   ]
  },
  {
   "cell_type": "code",
   "execution_count": null,
   "metadata": {},
   "outputs": [],
   "source": [
    "df.groupby('product_category_name')['payment_value'].sum().nlargest(10).reset_index()"
   ]
  },
  {
   "cell_type": "markdown",
   "metadata": {},
   "source": [
    "SỐ ĐƠN HÀNG GIAO THÀNH CÔNG VÀ BỊ HỦY "
   ]
  },
  {
   "cell_type": "code",
   "execution_count": null,
   "metadata": {},
   "outputs": [],
   "source": [
    "df['order_status'].unique()"
   ]
  },
  {
   "cell_type": "code",
   "execution_count": 12,
   "metadata": {},
   "outputs": [],
   "source": [
    "delivered_df= df.loc[df['order_status']=='delivered']\n",
    "canceled_df= df.loc[df['order_status']=='canceled']"
   ]
  },
  {
   "cell_type": "code",
   "execution_count": null,
   "metadata": {},
   "outputs": [],
   "source": [
    "plt.figure(figsize=(12,6))\n",
    "sns.countplot(data=canceled_df,x='year');"
   ]
  },
  {
   "cell_type": "code",
   "execution_count": null,
   "metadata": {},
   "outputs": [],
   "source": [
    "plt.figure(figsize=(12,6))\n",
    "sns.countplot(data= delivered_df,x='year');"
   ]
  },
  {
   "cell_type": "markdown",
   "metadata": {},
   "source": [
    "Hình thức thanh toán "
   ]
  },
  {
   "cell_type": "code",
   "execution_count": null,
   "metadata": {},
   "outputs": [],
   "source": [
    "plt.figure(figsize=(12,6))\n",
    "sns.countplot(data=df, x='payment_type');"
   ]
  },
  {
   "cell_type": "markdown",
   "metadata": {},
   "source": [
    "Số sao mà khách hàng đánh giá"
   ]
  },
  {
   "cell_type": "code",
   "execution_count": 46,
   "metadata": {},
   "outputs": [],
   "source": [
    "star= df.groupby('review_score')['customer_id'].count().reset_index(name='count')\n",
    "ax= star['review_score']\n",
    "bx= star['count']"
   ]
  },
  {
   "cell_type": "code",
   "execution_count": null,
   "metadata": {},
   "outputs": [],
   "source": [
    "plt.figure(figsize=(15,6))\n",
    "plt.pie(bx, labels=ax ,autopct='%1.1f%%');"
   ]
  },
  {
   "cell_type": "code",
   "execution_count": null,
   "metadata": {},
   "outputs": [],
   "source": [
    "#danh sách những sản phẩm đánh giá 1 và 2 sao\n",
    "star12= df.loc[(df['review_score']== 1)|(df['review_score']==2)]\n",
    "pd.crosstab(star12.product_category_name, star12.review_score)"
   ]
  },
  {
   "cell_type": "markdown",
   "metadata": {},
   "source": [
    "Khách hàng chủ yếu tập trung ở những thành phố nào"
   ]
  },
  {
   "cell_type": "code",
   "execution_count": null,
   "metadata": {},
   "outputs": [],
   "source": [
    "df['customer_city'].value_counts().nlargest(10).plot(kind='bar', figsize=(18,6), color= sns.color_palette('Set2'))\n",
    "plt.xticks(rotation =0);"
   ]
  }
 ],
 "metadata": {
  "kernelspec": {
   "display_name": "Python 3.10.5 64-bit (windows store)",
   "language": "python",
   "name": "python3"
  },
  "language_info": {
   "codemirror_mode": {
    "name": "ipython",
    "version": 3
   },
   "file_extension": ".py",
   "mimetype": "text/x-python",
   "name": "python",
   "nbconvert_exporter": "python",
   "pygments_lexer": "ipython3",
   "version": "3.10.6"
  },
  "orig_nbformat": 4,
  "vscode": {
   "interpreter": {
    "hash": "9e35676d33e03a9093a17dc7760f2b2aa4960ff6d3c0d7dc06348afdc0ca22c8"
   }
  }
 },
 "nbformat": 4,
 "nbformat_minor": 2
}
